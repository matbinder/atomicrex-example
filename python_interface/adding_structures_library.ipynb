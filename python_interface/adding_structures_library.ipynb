{
 "cells": [
  {
   "cell_type": "code",
   "execution_count": 1,
   "metadata": {},
   "outputs": [],
   "source": [
    "from __future__ import print_function, division\n",
    "import atomicrex"
   ]
  },
  {
   "cell_type": "code",
   "execution_count": 2,
   "metadata": {},
   "outputs": [
    {
     "name": "stdout",
     "output_type": "stream",
     "text": [
      "Create job object\n"
     ]
    }
   ],
   "source": [
    "print('Create job object')\n",
    "job = atomicrex.Job()"
   ]
  },
  {
   "cell_type": "code",
   "execution_count": 3,
   "metadata": {},
   "outputs": [
    {
     "name": "stdout",
     "output_type": "stream",
     "text": [
      "Parse XML input file with input parameters and potential information.\n"
     ]
    }
   ],
   "source": [
    "print('Parse XML input file with input parameters'\n",
    "      ' and potential information.')\n",
    "job.parse_input_file('main.xml')"
   ]
  },
  {
   "cell_type": "code",
   "execution_count": 4,
   "metadata": {},
   "outputs": [
    {
     "name": "stdout",
     "output_type": "stream",
     "text": [
      "Switch verbosity to \"medium\"\n"
     ]
    }
   ],
   "source": [
    "print('Switch verbosity to \"medium\"')\n",
    "job.set_verbosity(2)"
   ]
  },
  {
   "cell_type": "code",
   "execution_count": 5,
   "metadata": {},
   "outputs": [
    {
     "name": "stdout",
     "output_type": "stream",
     "text": [
      "Adding a structure from the library\n"
     ]
    }
   ],
   "source": [
    "print('Adding a structure from the library')\n",
    "structure = job.add_library_structure('Al-fcc',\n",
    "                                      'fcc',\n",
    "                                      {'alat': 4.032, 'type': 'Al'})"
   ]
  },
  {
   "cell_type": "code",
   "execution_count": 6,
   "metadata": {},
   "outputs": [
    {
     "name": "stdout",
     "output_type": "stream",
     "text": [
      "\n"
     ]
    }
   ],
   "source": [
    "structure.modify_property('atomic-energy', -3.36, 200.0)\n",
    "structure.modify_property('bulk-modulus', 80.9, 0.1)\n",
    "structure.modify_property('C11', 114.0, 100.0)\n",
    "structure.modify_property('C12', 61.9)\n",
    "structure.modify_property('C44', 31.6)\n",
    "print('')"
   ]
  },
  {
   "cell_type": "code",
   "execution_count": 7,
   "metadata": {},
   "outputs": [
    {
     "name": "stdout",
     "output_type": "stream",
     "text": [
      "Testing some ASE like method calls\n",
      ".positions:  [[0. 0. 0.]]\n",
      ".get_positions:  [[0. 0. 0.]]\n",
      ".get_cell:\n",
      "[[0.    2.016 2.016]\n",
      " [2.016 0.    2.016]\n",
      " [2.016 2.016 0.   ]]\n",
      ".get_number_of_atoms:  1\n",
      "\n"
     ]
    }
   ],
   "source": [
    "print('Testing some ASE like method calls')\n",
    "print('.positions: ', structure.positions)\n",
    "print('.get_positions: ', structure.get_positions())\n",
    "print('.get_cell:')\n",
    "print(structure.get_cell())\n",
    "print('.get_number_of_atoms: ', structure.get_number_of_atoms())\n",
    "print('')"
   ]
  },
  {
   "cell_type": "code",
   "execution_count": 8,
   "metadata": {},
   "outputs": [
    {
     "name": "stdout",
     "output_type": "stream",
     "text": [
      "Computing properties.\n",
      "\n"
     ]
    }
   ],
   "source": [
    "print('Computing properties.')\n",
    "structure.compute_properties()\n",
    "print('')"
   ]
  },
  {
   "cell_type": "code",
   "execution_count": 9,
   "metadata": {},
   "outputs": [
    {
     "name": "stdout",
     "output_type": "stream",
     "text": [
      "Printing properties.\n",
      "\n"
     ]
    }
   ],
   "source": [
    "print('Printing properties.')\n",
    "structure.print_properties()\n",
    "print('')"
   ]
  },
  {
   "cell_type": "code",
   "execution_count": 10,
   "metadata": {},
   "outputs": [
    {
     "name": "stdout",
     "output_type": "stream",
     "text": [
      "Adding another structure from the library\n",
      "\n"
     ]
    }
   ],
   "source": [
    "print('Adding another structure from the library')\n",
    "structure = job.add_library_structure('Al-bcc',\n",
    "                                      'body-centered cubic',\n",
    "                                      {'alat': 4.032, 'type': 'Al'})\n",
    "print('')"
   ]
  },
  {
   "cell_type": "code",
   "execution_count": 11,
   "metadata": {},
   "outputs": [
    {
     "name": "stdout",
     "output_type": "stream",
     "text": [
      "Demonstrating the conversion to an ASE atoms object.\n",
      " cell\n",
      "Cell([[-2.016, 2.016, 2.016], [2.016, -2.016, 2.016], [2.016, 2.016, -2.016]])\n",
      " atoms\n",
      "   1\n",
      "Atom('Al', [0.0, 0.0, 0.0], index=0)\n",
      "\n"
     ]
    }
   ],
   "source": [
    "print('Demonstrating the conversion to an ASE atoms object.')\n",
    "conf = structure.get_atoms(job)\n",
    "print(' cell')\n",
    "print(conf.cell)\n",
    "print(' atoms')\n",
    "for k, atom in enumerate(conf, start=1):\n",
    "    print(' {:3}'.format(k))\n",
    "    print(atom)\n",
    "print('')"
   ]
  },
  {
   "cell_type": "code",
   "execution_count": 12,
   "metadata": {},
   "outputs": [
    {
     "name": "stdout",
     "output_type": "stream",
     "text": [
      "Adding more structures from the library\n",
      " id: my-simple-cubic (nat = 1)\n",
      "[[3. 0. 0.]\n",
      " [0. 3. 0.]\n",
      " [0. 0. 3.]]\n",
      " id: my-diamond (nat = 2)\n",
      "[[0.  0.5 0.5]\n",
      " [0.5 0.  0.5]\n",
      " [0.5 0.5 0. ]]\n",
      " id: my-hcp (nat = 2)\n",
      "[[ 2.50000000e+00 -1.25000000e+00  0.00000000e+00]\n",
      " [-2.22044605e-16  2.16506351e+00  0.00000000e+00]\n",
      " [ 0.00000000e+00  0.00000000e+00  4.00000000e+00]]\n",
      " id: my-omega (nat = 3)\n",
      "[[ 2.50000000e+00 -1.25000000e+00  0.00000000e+00]\n",
      " [-2.22044605e-16  2.16506351e+00  0.00000000e+00]\n",
      " [ 0.00000000e+00  0.00000000e+00  1.72500000e+00]]\n",
      " id: my-L10 (nat = 4)\n",
      "[[2.5   0.    0.   ]\n",
      " [0.    2.5   0.   ]\n",
      " [0.    0.    1.725]]\n",
      "\n"
     ]
    }
   ],
   "source": [
    "print('Adding more structures from the library')\n",
    "structure = job.add_library_structure('my-simple-cubic',\n",
    "                                      'sc',\n",
    "                                      {'alat': 3.0, 'type': 'Al'})\n",
    "print(' id: {} (nat = {})'.format(structure.id,\n",
    "                                  structure.get_number_of_atoms()))\n",
    "print(structure.cell)\n",
    "structure = job.add_library_structure('my-diamond',\n",
    "                                      'dia',\n",
    "                                      {'alat': 1.0, 'type': 'Al'})\n",
    "print(' id: {} (nat = {})'.format(structure.id,\n",
    "                                  structure.get_number_of_atoms()))\n",
    "print(structure.cell)\n",
    "structure = job.add_library_structure('my-hcp',\n",
    "                                      'hcp',\n",
    "                                      {'alat': 2.5,\n",
    "                                       'clat': 4.0,\n",
    "                                       'type': 'Al'})\n",
    "print(' id: {} (nat = {})'.format(structure.id,\n",
    "                                  structure.get_number_of_atoms()))\n",
    "print(structure.cell)\n",
    "structure = job.add_library_structure('my-omega',\n",
    "                                      'omega',\n",
    "                                      {'alat': 2.5,\n",
    "                                       'ca_ratio': 0.69,\n",
    "                                       'type': 'Al'})\n",
    "print(' id: {} (nat = {})'.format(structure.id,\n",
    "                                  structure.get_number_of_atoms()))\n",
    "print(structure.cell)\n",
    "structure = job.add_library_structure('my-L10',\n",
    "                                      'L10',\n",
    "                                      {'alat': 2.5,\n",
    "                                       'ca_ratio': 0.69,\n",
    "                                       'type_A': 'Al',\n",
    "                                       'type_B': 'Al'})\n",
    "print(' id: {} (nat = {})'.format(structure.id,\n",
    "                                  structure.get_number_of_atoms()))\n",
    "print(structure.cell)\n",
    "print('')"
   ]
  }
 ],
 "metadata": {
  "kernelspec": {
   "display_name": "Python 3",
   "language": "python",
   "name": "python3"
  },
  "language_info": {
   "codemirror_mode": {
    "name": "ipython",
    "version": 3
   },
   "file_extension": ".py",
   "mimetype": "text/x-python",
   "name": "python",
   "nbconvert_exporter": "python",
   "pygments_lexer": "ipython3",
   "version": "3.7.3"
  }
 },
 "nbformat": 4,
 "nbformat_minor": 2
}
