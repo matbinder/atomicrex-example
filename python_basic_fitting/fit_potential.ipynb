{
 "cells": [
  {
   "cell_type": "code",
   "execution_count": 1,
   "metadata": {},
   "outputs": [],
   "source": [
    "import atomicrex\n",
    "# from scipy.optimize import minimize"
   ]
  },
  {
   "cell_type": "code",
   "execution_count": 2,
   "metadata": {},
   "outputs": [],
   "source": [
    "__doc__ = \"\"\" This script demonstrates the application of the python interface\n",
    "for parameter optimization.  \"\"\""
   ]
  },
  {
   "cell_type": "code",
   "execution_count": 3,
   "metadata": {},
   "outputs": [],
   "source": [
    "# initialize job\n",
    "job = atomicrex.Job()\n",
    "job.parse_input_file('main.xml')\n",
    "job.set_verbosity(2)"
   ]
  },
  {
   "cell_type": "code",
   "execution_count": 4,
   "metadata": {},
   "outputs": [
    {
     "name": "stdout",
     "output_type": "stream",
     "text": [
      "initial residual: 5911.77\n",
      "final residual: 2974.9\n"
     ]
    }
   ],
   "source": [
    "# fitting\n",
    "job.prepare_fitting()\n",
    "print('initial residual: %g' % job.calculate_residual())\n",
    "job.perform_fitting()\n",
    "# initial_params = job.get_potential_parameters()\n",
    "# resopt = minimize(job.calculate_residual,\n",
    "#                   initial_params,\n",
    "#                   options={'disp': False,\n",
    "#                            'eps': 1e-4,\n",
    "#                            'gtol': 1e-10},\n",
    "#                   method='L-BFGS-B')\n",
    "residual = job.calculate_residual()\n",
    "print('final residual: %g' % job.calculate_residual())"
   ]
  },
  {
   "cell_type": "code",
   "execution_count": 5,
   "metadata": {},
   "outputs": [
    {
     "name": "stdout",
     "output_type": "stream",
     "text": [
      "\n",
      " Structure: bcc\n",
      "OrderedDict([('total-energy', -3.518734781820883 eV), ('atomic-energy', -3.518734781820883 eV/atom (target:  -3.25 eV/atom ) Abs. weight:  0.011363636363636364 ; Tolerance:  0.01 ; Weighted residual:  8.206634427308813), ('total-volume', 17.419252723563844 A^3), ('atomic-volume', 17.419252723563844 A^3/atom), ('pressure', 0.0 bar), ('bulk-modulus', 0.0 GPa), ('atomic-forces', <atomicrex._atomicrex.AtomVectorProperty object at 0x7f7ff5e9a8b8>), ('pxx', 0.0 bar), ('pyy', 0.0 bar), ('pzz', 0.0 bar), ('pyz', 0.0 bar), ('pxz', 0.0 bar), ('pxy', 0.0 bar), ('C11', 0.0 GPa), ('C12', 0.0 GPa), ('C13', 0.0 GPa), ('C14', 0.0 GPa), ('C15', 0.0 GPa), ('C16', 0.0 GPa), ('C22', 0.0 GPa), ('C23', 0.0 GPa), ('C24', 0.0 GPa), ('C25', 0.0 GPa), ('C26', 0.0 GPa), ('C33', 0.0 GPa), ('C34', 0.0 GPa), ('C35', 0.0 GPa), ('C36', 0.0 GPa), ('C44', 0.0 GPa), ('C45', 0.0 GPa), ('C46', 0.0 GPa), ('C55', 0.0 GPa), ('C56', 0.0 GPa), ('C66', 0.0 GPa), ('lattice-parameter', 3.266027510510608 A (target:  4.0 A ) Abs. weight:  0.11363636363636363 ; Tolerance:  0.005 ; Weighted residual:  2448.707342396618)])\n",
      "\n",
      " Structure: diamond\n",
      "OrderedDict([('total-energy', -3.612233559861647 eV), ('atomic-energy', -1.8061167799308235 eV/atom (target:  -2.36 eV/atom ) Abs. weight:  0.125 ; Tolerance:  0.01 ; Weighted residual:  383.48327684274955), ('total-volume', 31.25 A^3), ('atomic-volume', 15.625 A^3/atom), ('pressure', 0.0 bar), ('bulk-modulus', 0.0 GPa), ('atomic-forces', <atomicrex._atomicrex.AtomVectorProperty object at 0x7f7ff5e9ae30>), ('pxx', 0.0 bar), ('pyy', 0.0 bar), ('pzz', 0.0 bar), ('pyz', 0.0 bar), ('pxz', 0.0 bar), ('pxy', 0.0 bar), ('C11', 0.0 GPa), ('C12', 0.0 GPa), ('C13', 0.0 GPa), ('C14', 0.0 GPa), ('C15', 0.0 GPa), ('C16', 0.0 GPa), ('C22', 0.0 GPa), ('C23', 0.0 GPa), ('C24', 0.0 GPa), ('C25', 0.0 GPa), ('C26', 0.0 GPa), ('C33', 0.0 GPa), ('C34', 0.0 GPa), ('C35', 0.0 GPa), ('C36', 0.0 GPa), ('C44', 0.0 GPa), ('C45', 0.0 GPa), ('C46', 0.0 GPa), ('C55', 0.0 GPa), ('C56', 0.0 GPa), ('C66', 0.0 GPa), ('lattice-parameter', 5.0 A)])\n",
      "\n",
      " Structure: fcc\n",
      "OrderedDict([('total-energy', -3.5268130519805254 eV), ('atomic-energy', -3.5268130519805254 eV/atom (target:  -3.36 eV/atom ) Abs. weight:  0.15625 ; Tolerance:  0.01 ; Weighted residual:  43.47905361102736), ('total-volume', 17.391597855882335 A^3), ('atomic-volume', 17.391597855882335 A^3/atom), ('pressure', 0.01713912759855209 bar), ('bulk-modulus', 69.00853475613596 GPa (target:  79.0 GPa ) Abs. weight:  0.078125 ; Tolerance:  2.0 ; Weighted residual:  1.9497925335809205), ('atomic-forces', <atomicrex._atomicrex.AtomVectorProperty object at 0x7f7ff5e9afb8>), ('pxx', 0.017139127594130707 bar), ('pyy', 0.017139127601561825 bar), ('pzz', 0.017139127599963735 bar), ('pyz', 7.990448060723486e-14 bar), ('pxz', -1.5980896121446973e-12 bar), ('pxy', -1.5980896121446973e-12 bar), ('C11', 78.63884845044622 GPa (target:  114.0 GPa ) Abs. weight:  0.078125 ; Tolerance:  2.0 ; Weighted residual:  24.422090603720896), ('C12', 64.19342935222252 GPa (target:  61.9 GPa ) Abs. weight:  0.078125 ; Tolerance:  2.0 ; Weighted residual:  0.1027308240944498), ('C13', 0.0 GPa), ('C14', 0.0 GPa), ('C15', 0.0 GPa), ('C16', 0.0 GPa), ('C22', 0.0 GPa), ('C23', 0.0 GPa), ('C24', 0.0 GPa), ('C25', 0.0 GPa), ('C26', 0.0 GPa), ('C33', 0.0 GPa), ('C34', 0.0 GPa), ('C35', 0.0 GPa), ('C36', 0.0 GPa), ('C44', 36.56212555780351 GPa (target:  31.6 GPa ) Abs. weight:  0.078125 ; Tolerance:  2.0 ; Weighted residual:  0.4809119150665391), ('C45', 0.0 GPa), ('C46', 0.0 GPa), ('C55', 0.0 GPa), ('C56', 0.0 GPa), ('C66', 0.0 GPa), ('lattice-parameter', 4.1127580271600035 A (target:  4.05 A ) Abs. weight:  0.15625 ; Tolerance:  0.005 ; Weighted residual:  24.616062331348488)])\n",
      "\n",
      " Structure: hcp\n",
      "OrderedDict([('total-energy', -7.015291623478195 eV), ('atomic-energy', -3.5076458117390974 eV/atom (target:  -3.33 eV/atom ) Abs. weight:  0.125 ; Tolerance:  0.01 ; Weighted residual:  39.44754303555351), ('total-volume', 37.41229744348776 A^3), ('atomic-volume', 18.70614872174388 A^3/atom), ('pressure', 0.0 bar), ('bulk-modulus', 0.0 GPa), ('atomic-forces', <atomicrex._atomicrex.AtomVectorProperty object at 0x7f7ff5e9af10>), ('pxx', 0.0 bar), ('pyy', 0.0 bar), ('pzz', 0.0 bar), ('pyz', 0.0 bar), ('pxz', 0.0 bar), ('pxy', 0.0 bar), ('C11', 0.0 GPa), ('C12', 0.0 GPa), ('C13', 0.0 GPa), ('C14', 0.0 GPa), ('C15', 0.0 GPa), ('C16', 0.0 GPa), ('C22', 0.0 GPa), ('C23', 0.0 GPa), ('C24', 0.0 GPa), ('C25', 0.0 GPa), ('C26', 0.0 GPa), ('C33', 0.0 GPa), ('C34', 0.0 GPa), ('C35', 0.0 GPa), ('C36', 0.0 GPa), ('C44', 0.0 GPa), ('C45', 0.0 GPa), ('C46', 0.0 GPa), ('C55', 0.0 GPa), ('C56', 0.0 GPa), ('C66', 0.0 GPa), ('lattice-parameter', 3.0 A), ('ca-ratio', 1.6)])\n"
     ]
    }
   ],
   "source": [
    "# output properties\n",
    "for name, structure in sorted(job.structures.items()):\n",
    "    print('')\n",
    "    print(' Structure: %s' % name)\n",
    "    structure.compute_properties()\n",
    "    print(structure.properties)"
   ]
  },
  {
   "cell_type": "code",
   "execution_count": 6,
   "metadata": {},
   "outputs": [
    {
     "data": {
      "text/plain": [
       "array([500.00231751,   2.51538624,   1.08201583,   8.00092722])"
      ]
     },
     "execution_count": 6,
     "metadata": {},
     "output_type": "execute_result"
    }
   ],
   "source": [
    "# parameters\n",
    "job.get_potential_parameters()"
   ]
  },
  {
   "cell_type": "code",
   "execution_count": null,
   "metadata": {},
   "outputs": [],
   "source": []
  }
 ],
 "metadata": {
  "kernelspec": {
   "display_name": "Python 3",
   "language": "python",
   "name": "python3"
  },
  "language_info": {
   "codemirror_mode": {
    "name": "ipython",
    "version": 3
   },
   "file_extension": ".py",
   "mimetype": "text/x-python",
   "name": "python",
   "nbconvert_exporter": "python",
   "pygments_lexer": "ipython3",
   "version": "3.7.3"
  }
 },
 "nbformat": 4,
 "nbformat_minor": 2
}
