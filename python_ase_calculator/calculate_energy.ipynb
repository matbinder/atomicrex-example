{
 "cells": [
  {
   "cell_type": "code",
   "execution_count": 1,
   "metadata": {},
   "outputs": [],
   "source": [
    "from atomicrex.ase_calculator import Atomicrex\n",
    "from ase.lattice.cubic import BodyCenteredCubic"
   ]
  },
  {
   "cell_type": "code",
   "execution_count": 2,
   "metadata": {},
   "outputs": [],
   "source": [
    "__doc__ = \"\"\" This script demonstrates the usage of the Atomicrex ase\n",
    "calculator.  \"\"\""
   ]
  },
  {
   "cell_type": "code",
   "execution_count": 3,
   "metadata": {},
   "outputs": [],
   "source": [
    "atoms = BodyCenteredCubic(size=(2, 2, 2), symbol='Fe', latticeconstant=2.86)\n",
    "calc = Atomicrex(file_name=\"main.xml\")"
   ]
  },
  {
   "cell_type": "code",
   "execution_count": 4,
   "metadata": {},
   "outputs": [],
   "source": [
    "atoms.set_calculator(calc)"
   ]
  },
  {
   "cell_type": "code",
   "execution_count": 5,
   "metadata": {},
   "outputs": [
    {
     "name": "stdout",
     "output_type": "stream",
     "text": [
      "Forces: [[ 1.25940924e-15  1.70523318e-15  3.91180144e-15]\n",
      " [ 1.36522738e-15  1.25420507e-15  1.49533164e-15]\n",
      " [ 1.25940924e-15  1.48145385e-15  1.77375475e-16]\n",
      " [-2.65412692e-15  1.65048097e-15  6.85974715e-16]\n",
      " [ 2.10508694e-15  2.58690638e-15 -7.86697096e-16]\n",
      " [ 1.67487552e-15 -3.68021585e-15 -1.69742692e-15]\n",
      " [-2.21409993e-16  4.46458545e-16 -1.64822005e-15]\n",
      " [-1.97758476e-15 -2.64371858e-15  0.00000000e+00]\n",
      " [ 1.03216047e-16  7.70217223e-16 -1.87697080e-15]\n",
      " [ 1.21343907e-15  6.57460197e-16 -3.11469600e-15]\n",
      " [-4.66640615e-16 -5.74193471e-16 -3.43995665e-15]\n",
      " [-4.17808149e-15  1.88737914e-15 -4.78393367e-15]\n",
      " [ 2.89698820e-16  8.91647867e-16 -2.60208521e-15]\n",
      " [ 1.44328993e-15 -4.43568793e-15 -5.62267247e-15]\n",
      " [ 7.97105437e-16  1.68268177e-15 -4.16333634e-17]\n",
      " [-2.98892855e-15 -4.32100636e-15 -3.89618893e-15]]\n"
     ]
    }
   ],
   "source": [
    "f = atoms.get_forces()\n",
    "print(\"Forces: {}\".format(f))"
   ]
  },
  {
   "cell_type": "code",
   "execution_count": 6,
   "metadata": {},
   "outputs": [
    {
     "name": "stdout",
     "output_type": "stream",
     "text": [
      "Total energy: -68.48002450272035\n"
     ]
    }
   ],
   "source": [
    "e = atoms.get_potential_energy()\n",
    "print(\"Total energy: {}\".format(e))"
   ]
  },
  {
   "cell_type": "code",
   "execution_count": 7,
   "metadata": {},
   "outputs": [
    {
     "name": "stdout",
     "output_type": "stream",
     "text": [
      "Stress: [-2.17069961e-04 -2.17069961e-04 -2.17069961e-04 -3.82817858e-18\n",
      " -8.52766172e-19  1.44831211e-17]\n"
     ]
    }
   ],
   "source": [
    "p = atoms.get_stress()\n",
    "print(\"Stress: {}\".format(p))"
   ]
  }
 ],
 "metadata": {
  "kernelspec": {
   "display_name": "Python 3",
   "language": "python",
   "name": "python3"
  },
  "language_info": {
   "codemirror_mode": {
    "name": "ipython",
    "version": 3
   },
   "file_extension": ".py",
   "mimetype": "text/x-python",
   "name": "python",
   "nbconvert_exporter": "python",
   "pygments_lexer": "ipython3",
   "version": "3.7.3"
  }
 },
 "nbformat": 4,
 "nbformat_minor": 2
}
